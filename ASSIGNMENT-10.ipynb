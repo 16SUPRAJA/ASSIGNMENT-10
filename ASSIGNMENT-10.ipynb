{
 "cells": [
  {
   "cell_type": "markdown",
   "id": "20151abb",
   "metadata": {},
   "source": [
    "## 1. How do you distinguish between shutil.copy() and shutil.copytree()?"
   ]
  },
  {
   "cell_type": "markdown",
   "id": "35f84c92",
   "metadata": {},
   "source": [
    "The shutil (or shell utilities) module has functions to let you copy, move, rename, and delete files in your Python programs. To use the shutil functions, you will first need to use import shutil."
   ]
  },
  {
   "cell_type": "markdown",
   "id": "09e5a25d",
   "metadata": {},
   "source": [
    " While shutil.copy() will copy a single file, shutil.copytree() will copy an entire folder and every folder and file contained in it.shutil.copytree(source, destination) will copy the folder at the path source, along with all of its files and subfolders, to the folder at the path destination.Calling shutil.copytree(source, destination) will copy the folder at the path source, along with all of its files and subfolders, to the folder at the path destination. The source and destination parameters are both strings.\n",
    "     shutil.copy(source, destination) will copy the file at the path source to the folder at the path destination. (Both source and destination are strings.)If destination is a filename, it will be used as the new name of the copied file. This function returns a string of the path of the copied file."
   ]
  },
  {
   "cell_type": "markdown",
   "id": "4b4ed5b6",
   "metadata": {},
   "source": [
    "## 2. What function is used to rename files??\n",
    " "
   ]
  },
  {
   "cell_type": "markdown",
   "id": "7355006a",
   "metadata": {},
   "source": [
    "The function used to rename files is os.rename() "
   ]
  },
  {
   "cell_type": "markdown",
   "id": "089101d4",
   "metadata": {},
   "source": [
    "## 3. What is the difference between the delete functions in the send2trash and shutil modules?"
   ]
  },
  {
   "cell_type": "markdown",
   "id": "eb453b9c",
   "metadata": {},
   "source": [
    "The send2trash functions will move a file or folder to the recycle bin pip install send2trash use to install, while shutil functions will permanently delete files and folders."
   ]
  },
  {
   "cell_type": "markdown",
   "id": "e380bddf",
   "metadata": {},
   "source": [
    "## 4.ZipFile objects have a close() method just like File objects’ close() method. What ZipFile method is equivalent to File objects’ open() method?"
   ]
  },
  {
   "cell_type": "markdown",
   "id": "230f5c21",
   "metadata": {},
   "source": [
    "ZipFile method is equivalent to File objects’ open() method is read,write,append as second argument, first argument as file name."
   ]
  },
  {
   "cell_type": "markdown",
   "id": "3c480bae",
   "metadata": {},
   "source": [
    "## 5. Create a programme that searches a folder tree for files with a certain file extension (such as .pdf or .jpg). Copy these files from whatever location they are in to a new folder."
   ]
  },
  {
   "cell_type": "code",
   "execution_count": 3,
   "id": "7576418a",
   "metadata": {},
   "outputs": [],
   "source": [
    "def copyFile(abc,dst,ext):\n",
    "    try:\n",
    "        import os,shutil\n",
    "        for file in os.listdir(abc):\n",
    "            if file.endswith(ext):\n",
    "                shutil.copy(os.path.join(abc,file),dst)\n",
    "        print(f'Files have been successfully copied from {abc} to {dst}')\n",
    "    except Exception as e:\n",
    "        print(e)"
   ]
  },
  {
   "cell_type": "code",
   "execution_count": null,
   "id": "942c7dc1",
   "metadata": {},
   "outputs": [],
   "source": []
  }
 ],
 "metadata": {
  "kernelspec": {
   "display_name": "Python 3",
   "language": "python",
   "name": "python3"
  },
  "language_info": {
   "codemirror_mode": {
    "name": "ipython",
    "version": 3
   },
   "file_extension": ".py",
   "mimetype": "text/x-python",
   "name": "python",
   "nbconvert_exporter": "python",
   "pygments_lexer": "ipython3",
   "version": "3.8.8"
  }
 },
 "nbformat": 4,
 "nbformat_minor": 5
}
